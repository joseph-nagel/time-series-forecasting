{
 "cells": [
  {
   "cell_type": "markdown",
   "id": "ccd8ebc4-942b-4a95-8bb7-36d50e723a64",
   "metadata": {},
   "source": [
    "# LSTM time series forecasting\n",
    "\n",
    "This notebook contains a brief demonstration of **recurrent neural networks** (RNNs) for time series forecasting. In particular, we use a **long short-term memory** (LSTM) model in order to predict the future values of a synthetically generated time series. A simple of two-variate sine/cosine time series example is constructed to that end. After training the LSTM neural network, the performance is tested and compared against a naive baseline approach."
   ]
  },
  {
   "cell_type": "code",
   "execution_count": null,
   "id": "89db3d0a-0a25-4fba-8eae-9b9accc69d98",
   "metadata": {},
   "outputs": [],
   "source": [
    "%load_ext autoreload\n",
    "%autoreload 2\n",
    "%matplotlib inline\n",
    "\n",
    "import sys\n",
    "sys.path.append('..')"
   ]
  },
  {
   "cell_type": "code",
   "execution_count": null,
   "id": "8b7e3367",
   "metadata": {},
   "outputs": [],
   "source": [
    "import matplotlib.pyplot as plt\n",
    "import numpy as np\n",
    "import torch\n",
    "import torch.nn as nn\n",
    "from torch.utils.data import DataLoader\n",
    "from sklearn.model_selection import train_test_split\n",
    "\n",
    "from tsutils import (\n",
    "    make_sine_cosine,\n",
    "    SlidingWindows,\n",
    "    LSTM,\n",
    "    train\n",
    ")"
   ]
  },
  {
   "cell_type": "code",
   "execution_count": null,
   "id": "79d7c8ed-2bb9-4c7c-8044-ce3609911c1d",
   "metadata": {},
   "outputs": [],
   "source": [
    "np.random.seed(12345)\n",
    "_ = torch.manual_seed(54321)"
   ]
  },
  {
   "cell_type": "markdown",
   "id": "52d5ffa3",
   "metadata": {},
   "source": [
    "## Data generation\n",
    "\n",
    "Let us start by generating a sequence of data. A sine and a cosine function are sampled at regular locations and corrupted with random noise. Those two curves constitute a bi-variate time series."
   ]
  },
  {
   "cell_type": "code",
   "execution_count": null,
   "id": "fdd236b2",
   "metadata": {},
   "outputs": [],
   "source": [
    "num_steps = 2000\n",
    "max_length = 100.\n",
    "noise_level = 0.1\n",
    "\n",
    "data = make_sine_cosine(\n",
    "    num_steps=num_steps,\n",
    "    max_length=max_length,\n",
    "    noise_level=noise_level,\n",
    "    val_size=None\n",
    ")\n",
    "\n",
    "print('Data shape:', data.shape)"
   ]
  },
  {
   "cell_type": "code",
   "execution_count": null,
   "id": "2ebfddf4",
   "metadata": {},
   "outputs": [],
   "source": [
    "fig, ax = plt.subplots(figsize=(6, 4))\n",
    "ax.plot(np.arange(len(data)) + 1, data[:,0], alpha=0.7, label='sine data')\n",
    "ax.plot(np.arange(len(data)) + 1, data[:,1], alpha=0.7, label='cosine data')\n",
    "ax.set(xlabel='x', ylabel='y')\n",
    "ax.set_xlim((0, len(data)))\n",
    "ax.legend(loc='lower left')\n",
    "ax.grid(visible=True, which='both', color='lightgray', linestyle='-')\n",
    "ax.set_axisbelow(True)\n",
    "fig.tight_layout()"
   ]
  },
  {
   "cell_type": "markdown",
   "id": "e34eb2e2",
   "metadata": {},
   "source": [
    "The data is split into a training and a validation set. It is noted that due to the sequential character, this amounts to a simple division of the time series into two parts, without shuffling of any kind. This is easily done by setting the flag `shuffle=False` in the code below."
   ]
  },
  {
   "cell_type": "code",
   "execution_count": null,
   "id": "d1cfd3a5",
   "metadata": {},
   "outputs": [],
   "source": [
    "val_size = 0.2\n",
    "\n",
    "train_data, val_data = train_test_split(\n",
    "    data,\n",
    "    test_size=val_size,\n",
    "    shuffle=False\n",
    ")\n",
    "\n",
    "print('Train data shape:', train_data.shape)\n",
    "print('Val. data shape:', val_data.shape)"
   ]
  },
  {
   "cell_type": "markdown",
   "id": "683ebbad",
   "metadata": {},
   "source": [
    "## Data set/loader\n",
    "\n",
    "For training purposes, the data is best accessed through a PyTorch dataset. The `SlidingWindows` class implements a sliding windows mechanism over the full sequence. It yields overlapping intervals of data. As a first step, we initialize sliding windows datasets for the training and validation sequences. Intervals of twenty consecutive time steps are considered."
   ]
  },
  {
   "cell_type": "code",
   "execution_count": null,
   "id": "1f0fe8dd",
   "metadata": {},
   "outputs": [],
   "source": [
    "window_size = 20\n",
    "\n",
    "train_set = SlidingWindows(\n",
    "    train_data,\n",
    "    window_size,\n",
    "    mode='next',\n",
    "    next_steps=1\n",
    "\n",
    ")\n",
    "\n",
    "val_set = SlidingWindows(\n",
    "    val_data,\n",
    "    window_size,\n",
    "    mode='next',\n",
    "    next_steps=1\n",
    ")\n",
    "\n",
    "print('No. train points:', len(train_set))\n",
    "print('No. val. points:', len(val_set))"
   ]
  },
  {
   "cell_type": "markdown",
   "id": "83f08ece",
   "metadata": {},
   "source": [
    "The corresponding data loaders are created in the following cell. Sixteen randomly sampled time intervals constitute a mini-batch."
   ]
  },
  {
   "cell_type": "code",
   "execution_count": null,
   "id": "d9919048",
   "metadata": {},
   "outputs": [],
   "source": [
    "batch_size = 16\n",
    "\n",
    "train_loader = DataLoader(\n",
    "    train_set,\n",
    "    batch_size=batch_size,\n",
    "    shuffle=True,\n",
    "    drop_last=True\n",
    ")\n",
    "\n",
    "val_loader = DataLoader(\n",
    "    val_set,\n",
    "    batch_size=batch_size,\n",
    "    shuffle=False,\n",
    "    drop_last=True\n",
    ")\n",
    "\n",
    "print('No. train batches:', len(train_loader))\n",
    "print('No. val. batches:', len(val_loader))"
   ]
  },
  {
   "cell_type": "markdown",
   "id": "20706f40",
   "metadata": {},
   "source": [
    "A batch of data is loaded in order to ensure that everything works fine so far."
   ]
  },
  {
   "cell_type": "code",
   "execution_count": null,
   "id": "80e05ebc",
   "metadata": {},
   "outputs": [],
   "source": [
    "X_batch, y_batch = next(iter(train_loader))\n",
    "print('Input shape:', X_batch.shape)\n",
    "print('Target shape:', y_batch.shape)"
   ]
  },
  {
   "cell_type": "markdown",
   "id": "e6c7b399",
   "metadata": {},
   "source": [
    "## Model training\n",
    "\n",
    "A simple LSTM architecture is defined and initialized next. Moreover, an MSE loss function and an optimizer are set up."
   ]
  },
  {
   "cell_type": "code",
   "execution_count": null,
   "id": "b5eee7f3",
   "metadata": {},
   "outputs": [],
   "source": [
    "lstm = LSTM(\n",
    "    input_size=2,\n",
    "    hidden_size=5,\n",
    "    num_layers=1\n",
    ")\n",
    "\n",
    "print('No. weights:', lstm.num_trainable)"
   ]
  },
  {
   "cell_type": "code",
   "execution_count": null,
   "id": "aa8745ef",
   "metadata": {},
   "outputs": [],
   "source": [
    "criterion = nn.MSELoss()\n",
    "optimizer = torch.optim.Adam(lstm.parameters(), lr=0.001)"
   ]
  },
  {
   "cell_type": "markdown",
   "id": "9004c04c",
   "metadata": {},
   "source": [
    "Subsequently, the model is trained for a small number of epochs. It can be seen that the training converges fairly quickly."
   ]
  },
  {
   "cell_type": "code",
   "execution_count": null,
   "id": "4d8a27b9",
   "metadata": {
    "scrolled": true
   },
   "outputs": [],
   "source": [
    "train(\n",
    "    lstm,\n",
    "    criterion=criterion,\n",
    "    optimizer=optimizer,\n",
    "    num_epochs=100,\n",
    "    train_loader=train_loader,\n",
    "    val_loader=val_loader\n",
    ")"
   ]
  },
  {
   "cell_type": "markdown",
   "id": "4e620dba",
   "metadata": {},
   "source": [
    "The final model outperforms the naive forecast in terms of the validation MSE."
   ]
  },
  {
   "cell_type": "code",
   "execution_count": null,
   "id": "5000d23e",
   "metadata": {},
   "outputs": [],
   "source": [
    "naive_mse = np.mean(np.diff(val_data, axis=0)**2)\n",
    "print('Naive forecast MSE: {:.4e}'.format(naive_mse))"
   ]
  },
  {
   "cell_type": "markdown",
   "id": "7abc22b5",
   "metadata": {},
   "source": [
    "## Test predictions\n",
    "\n",
    "Finally, we visualize recursively computed model forecasts starting from the first validation set window."
   ]
  },
  {
   "cell_type": "code",
   "execution_count": null,
   "id": "211054e6",
   "metadata": {},
   "outputs": [],
   "source": [
    "seq = torch.as_tensor(val_data[:window_size]) # (time, features)\n",
    "seq = seq.unsqueeze(0) # (batch=1, time, features)\n",
    "\n",
    "lstm.eval()\n",
    "with torch.no_grad():\n",
    "    preds = lstm.forecast(\n",
    "        seq,\n",
    "        steps=len(val_data) - window_size\n",
    "    )\n",
    "\n",
    "print('Pred. shape:', preds.shape)"
   ]
  },
  {
   "cell_type": "code",
   "execution_count": null,
   "id": "9714b722",
   "metadata": {},
   "outputs": [],
   "source": [
    "fig, ax = plt.subplots(figsize=(6, 4))\n",
    "\n",
    "ax.plot(\n",
    "    np.arange(window_size) + 1,\n",
    "    val_data[:window_size,0],\n",
    "    color=plt.cm.Dark2(0), alpha=0.7,\n",
    "    label='test sine'\n",
    ")\n",
    "\n",
    "ax.plot(\n",
    "    np.arange(window_size) + 1,\n",
    "    val_data[:window_size,1],\n",
    "    color=plt.cm.Dark2(1), alpha=0.7,\n",
    "    label='test cosine'\n",
    ")\n",
    "\n",
    "ax.plot(\n",
    "    np.arange(window_size, len(val_data)) + 1,\n",
    "    preds[0,:,0],\n",
    "    color=plt.cm.Dark2(0), alpha=0.7, linestyle='--',\n",
    "    label='sine forecast'\n",
    ")\n",
    "\n",
    "ax.plot(\n",
    "    np.arange(window_size, len(val_data)) + 1,\n",
    "    preds[0,:,1],\n",
    "    color=plt.cm.Dark2(1), alpha=0.7, linestyle='--',\n",
    "    label='cosine forecast'\n",
    ")\n",
    "\n",
    "ax.set(xlabel='x', ylabel='y')\n",
    "ax.set_xlim((0, len(val_data)))\n",
    "ax.legend(loc='lower left')\n",
    "\n",
    "ax.grid(visible=True, which='both', color='lightgray', linestyle='-')\n",
    "ax.set_axisbelow(True)\n",
    "fig.tight_layout()"
   ]
  }
 ],
 "metadata": {
  "kernelspec": {
   "display_name": "Python 3 (ipykernel)",
   "language": "python",
   "name": "python3"
  },
  "language_info": {
   "codemirror_mode": {
    "name": "ipython",
    "version": 3
   },
   "file_extension": ".py",
   "mimetype": "text/x-python",
   "name": "python",
   "nbconvert_exporter": "python",
   "pygments_lexer": "ipython3",
   "version": "3.12.4"
  }
 },
 "nbformat": 4,
 "nbformat_minor": 5
}
