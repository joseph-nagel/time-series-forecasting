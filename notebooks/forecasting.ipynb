{
 "cells": [
  {
   "cell_type": "markdown",
   "id": "ccd8ebc4-942b-4a95-8bb7-36d50e723a64",
   "metadata": {},
   "source": [
    "# Time series forecasting\n",
    "\n",
    "This notebook contains a brief demonstration of neural networks for time series forecasting. We use a **recurrent neural network** (RNN), in particular a **long short-term memory** (LSTM) model, and a **temporal convolutional network** (TCN) architecture in order to predict the future values of a two-variate sine/cosine time series. The forecasting models are trained with noisy data which is artificially generated for that purpose."
   ]
  },
  {
   "cell_type": "code",
   "execution_count": null,
   "id": "89db3d0a-0a25-4fba-8eae-9b9accc69d98",
   "metadata": {},
   "outputs": [],
   "source": [
    "%load_ext autoreload\n",
    "%autoreload 2\n",
    "%matplotlib inline\n",
    "\n",
    "import sys\n",
    "sys.path.append('..')"
   ]
  },
  {
   "cell_type": "code",
   "execution_count": null,
   "id": "8b7e3367",
   "metadata": {},
   "outputs": [],
   "source": [
    "import numpy as np\n",
    "import matplotlib.pyplot as plt\n",
    "import torch\n",
    "import torch.nn as nn\n",
    "from torch.utils.data import DataLoader\n",
    "from sklearn.model_selection import train_test_split\n",
    "\n",
    "from tsutils import (\n",
    "    SlidingWindows,\n",
    "    LSTM,\n",
    "    CausalConv1d,\n",
    "    TCN,\n",
    "    train\n",
    ")"
   ]
  },
  {
   "cell_type": "code",
   "execution_count": null,
   "id": "79d7c8ed-2bb9-4c7c-8044-ce3609911c1d",
   "metadata": {},
   "outputs": [],
   "source": [
    "np.random.seed(12345)\n",
    "_ = torch.manual_seed(54321)"
   ]
  },
  {
   "cell_type": "markdown",
   "id": "52d5ffa3",
   "metadata": {},
   "source": [
    "## Data generation\n",
    "\n",
    "Let us start by generating a sequence of data. A sine and a cosine function are sampled at regular locations and corrupted with random noise, respectively. Those two curves constitute a bi-variate time series."
   ]
  },
  {
   "cell_type": "code",
   "execution_count": null,
   "id": "fdd236b2",
   "metadata": {},
   "outputs": [],
   "source": [
    "num_steps = 2001\n",
    "noise_level = 0.1\n",
    "\n",
    "x_values = np.linspace(0, 100, num_steps)\n",
    "noisy_sine = np.sin(x_values) + np.random.normal(loc=0, scale=noise_level, size=num_steps)\n",
    "noisy_cosine = np.cos(x_values) + np.random.normal(loc=0, scale=noise_level, size=num_steps)\n",
    "data = np.column_stack((noisy_sine, noisy_cosine)).astype('float32')\n",
    "\n",
    "print('Data shape:', data.shape)"
   ]
  },
  {
   "cell_type": "code",
   "execution_count": null,
   "id": "2ebfddf4",
   "metadata": {},
   "outputs": [],
   "source": [
    "fig, ax = plt.subplots(figsize=(6, 4))\n",
    "ax.plot(data[:,0], alpha=0.7, label='sine data')\n",
    "ax.plot(data[:,1], alpha=0.7, label='cosine data')\n",
    "ax.set(xlabel='x', ylabel='y')\n",
    "ax.set_xlim((0, len(data)-1))\n",
    "ax.legend(loc='lower left')\n",
    "ax.grid(visible=True, which='both', color='lightgray', linestyle='-')\n",
    "ax.set_axisbelow(True)\n",
    "fig.tight_layout()"
   ]
  },
  {
   "cell_type": "markdown",
   "id": "e34eb2e2",
   "metadata": {},
   "source": [
    "The data is split into a training and a validation set. It is noted that due to the sequential character, this amounts to a simple division of the time series into two parts, without shuffling of any kind. This is easily done by setting the flag `shuffle=False` in the code below."
   ]
  },
  {
   "cell_type": "code",
   "execution_count": null,
   "id": "d1cfd3a5",
   "metadata": {},
   "outputs": [],
   "source": [
    "val_size = 0.2\n",
    "\n",
    "train_data, val_data = train_test_split(\n",
    "    data,\n",
    "    test_size=val_size,\n",
    "    shuffle=False\n",
    ")\n",
    "\n",
    "print('Train data shape:', train_data.shape)\n",
    "print('Val. data shape:', val_data.shape)"
   ]
  },
  {
   "cell_type": "markdown",
   "id": "e446a5cc",
   "metadata": {},
   "source": [
    "For training purposes, the data is best accessed through a PyTorch dataset. The `SlidingWindows` class implements a sliding windows mechanism over the full sequence. It yields overlapping intervals of data."
   ]
  },
  {
   "cell_type": "markdown",
   "id": "683ebbad",
   "metadata": {},
   "source": [
    "## LSTM\n",
    "\n",
    "A simple LSTM neural network is now trained on the synthetically generated time series data above. After training the model, the performance is tested and compared against a naive baseline approach.\n",
    "\n",
    "### Data set/loader\n",
    "\n",
    "As a first step, we initialize sliding windows datasets for the training and validation sequences. Intervals of twenty consecutive time steps are considered."
   ]
  },
  {
   "cell_type": "code",
   "execution_count": null,
   "id": "1f0fe8dd",
   "metadata": {},
   "outputs": [],
   "source": [
    "window_size = 20\n",
    "\n",
    "train_set = SlidingWindows(train_data, window_size)\n",
    "val_set = SlidingWindows(val_data, window_size)\n",
    "\n",
    "print('No. train points:', len(train_set))\n",
    "print('No. val. points:', len(val_set))"
   ]
  },
  {
   "cell_type": "markdown",
   "id": "83f08ece",
   "metadata": {},
   "source": [
    "The corresponding data loaders are created in the following cell. Sixteen randomly sampled time intervals constitute a mini-batch."
   ]
  },
  {
   "cell_type": "code",
   "execution_count": null,
   "id": "d9919048",
   "metadata": {},
   "outputs": [],
   "source": [
    "batch_size = 16\n",
    "\n",
    "train_loader = DataLoader(\n",
    "    train_set,\n",
    "    batch_size=batch_size,\n",
    "    shuffle=True,\n",
    "    drop_last=True\n",
    ")\n",
    "\n",
    "val_loader = DataLoader(\n",
    "    val_set,\n",
    "    batch_size=batch_size,\n",
    "    shuffle=False,\n",
    "    drop_last=True\n",
    ")\n",
    "\n",
    "print('No. train batches:', len(train_loader))\n",
    "print('No. val. batches:', len(val_loader))"
   ]
  },
  {
   "cell_type": "markdown",
   "id": "20706f40",
   "metadata": {},
   "source": [
    "A batch of data is loaded in order to ensure that everything works fine so far."
   ]
  },
  {
   "cell_type": "code",
   "execution_count": null,
   "id": "80e05ebc",
   "metadata": {},
   "outputs": [],
   "source": [
    "X_batch, y_batch = next(iter(train_loader))\n",
    "print('Input shape:', X_batch.shape)\n",
    "print('Target shape:', y_batch.shape)"
   ]
  },
  {
   "cell_type": "markdown",
   "id": "e6c7b399",
   "metadata": {},
   "source": [
    "### Model training\n",
    "\n",
    "A simple LSTM architecture is defined and initialized next. Moreover, an MSE loss function and an optimizer are set up."
   ]
  },
  {
   "cell_type": "code",
   "execution_count": null,
   "id": "b5eee7f3",
   "metadata": {},
   "outputs": [],
   "source": [
    "lstm = LSTM(\n",
    "    input_size=2,\n",
    "    hidden_size=5,\n",
    "    num_layers=1\n",
    ")\n",
    "\n",
    "print('No. weights:', lstm.num_trainable)"
   ]
  },
  {
   "cell_type": "code",
   "execution_count": null,
   "id": "aa8745ef",
   "metadata": {},
   "outputs": [],
   "source": [
    "criterion = nn.MSELoss()\n",
    "optimizer = torch.optim.Adam(lstm.parameters(), lr=0.001)"
   ]
  },
  {
   "cell_type": "markdown",
   "id": "9004c04c",
   "metadata": {},
   "source": [
    "Subsequently, the model is trained for a small number of epochs. It can be seen that the training converges fairly quickly."
   ]
  },
  {
   "cell_type": "code",
   "execution_count": null,
   "id": "4d8a27b9",
   "metadata": {
    "scrolled": true
   },
   "outputs": [],
   "source": [
    "train(\n",
    "    lstm,\n",
    "    criterion=criterion,\n",
    "    optimizer=optimizer,\n",
    "    num_epochs=100,\n",
    "    train_loader=train_loader,\n",
    "    val_loader=val_loader\n",
    ")"
   ]
  },
  {
   "cell_type": "markdown",
   "id": "4e620dba",
   "metadata": {},
   "source": [
    "The final model outperforms the naive forecast in terms of the validation MSE."
   ]
  },
  {
   "cell_type": "code",
   "execution_count": null,
   "id": "5000d23e",
   "metadata": {},
   "outputs": [],
   "source": [
    "naive_mse = np.mean(np.diff(val_data, axis=0)**2)\n",
    "print('Naive forecast MSE: {:.4e}'.format(naive_mse))"
   ]
  },
  {
   "cell_type": "markdown",
   "id": "7abc22b5",
   "metadata": {},
   "source": [
    "### Test predictions\n",
    "\n",
    "Finally, we visualize recursively computed model forecasts starting from the first validation set window."
   ]
  },
  {
   "cell_type": "code",
   "execution_count": null,
   "id": "211054e6",
   "metadata": {},
   "outputs": [],
   "source": [
    "seq = torch.as_tensor(val_data[:window_size]) # (time, features)\n",
    "seq = seq.unsqueeze(0) # (batch=1, time, features)\n",
    "\n",
    "lstm.eval()\n",
    "with torch.no_grad():\n",
    "    preds = lstm.forecast(\n",
    "        seq,\n",
    "        steps=len(val_data) - window_size\n",
    "    )\n",
    "\n",
    "print('Pred. shape:', preds.shape)"
   ]
  },
  {
   "cell_type": "code",
   "execution_count": null,
   "id": "9714b722",
   "metadata": {},
   "outputs": [],
   "source": [
    "fig, ax = plt.subplots(figsize=(6, 4))\n",
    "ax.plot(\n",
    "    np.arange(window_size), val_data[:window_size,0],\n",
    "    color=plt.cm.Dark2(0), alpha=0.7,\n",
    "    label='test sine'\n",
    ")\n",
    "ax.plot(\n",
    "    np.arange(window_size), val_data[:window_size,1],\n",
    "    color=plt.cm.Dark2(1), alpha=0.7,\n",
    "    label='test cosine'\n",
    ")\n",
    "ax.plot(\n",
    "    np.arange(window_size, len(val_data)), preds[0,:,0],\n",
    "    color=plt.cm.Dark2(0), alpha=0.7, linestyle='--',\n",
    "    label='sine forecast'\n",
    ")\n",
    "ax.plot(\n",
    "    np.arange(window_size, len(val_data)), preds[0,:,1],\n",
    "    color=plt.cm.Dark2(1), alpha=0.7, linestyle='--',\n",
    "    label='cosine forecast'\n",
    ")\n",
    "ax.set(xlabel='x', ylabel='y')\n",
    "ax.set_xlim((0, len(val_data)-1))\n",
    "ax.legend(loc='lower left')\n",
    "ax.grid(visible=True, which='both', color='lightgray', linestyle='-')\n",
    "ax.set_axisbelow(True)\n",
    "fig.tight_layout()"
   ]
  },
  {
   "cell_type": "markdown",
   "id": "69cf0808",
   "metadata": {},
   "source": [
    "## TCN\n",
    "\n",
    "As an alternative approach, a TCN model is now trained on the synthetic data set. The performance can be compared against the LSTM.\n",
    "\n",
    "### Data set/loader\n",
    "\n",
    "As before, we start by initializing data sets and loaders for the training and validation set, respectively."
   ]
  },
  {
   "cell_type": "code",
   "execution_count": null,
   "id": "ea6f7947",
   "metadata": {},
   "outputs": [],
   "source": [
    "window_size = 64\n",
    "\n",
    "train_set = SlidingWindows(\n",
    "    train_data,\n",
    "    window_size,\n",
    "    mode='shift',\n",
    "    time_last=True\n",
    ")\n",
    "\n",
    "val_set = SlidingWindows(\n",
    "    val_data,\n",
    "    window_size,\n",
    "    mode='shift',\n",
    "    time_last=True\n",
    ")\n",
    "\n",
    "print('No. train points:', len(train_set))\n",
    "print('No. val. points:', len(val_set))"
   ]
  },
  {
   "cell_type": "code",
   "execution_count": null,
   "id": "90839c24",
   "metadata": {},
   "outputs": [],
   "source": [
    "batch_size = 16\n",
    "\n",
    "train_loader = DataLoader(\n",
    "    train_set,\n",
    "    batch_size=batch_size,\n",
    "    shuffle=True,\n",
    "    drop_last=True\n",
    ")\n",
    "\n",
    "val_loader = DataLoader(\n",
    "    val_set,\n",
    "    batch_size=batch_size,\n",
    "    shuffle=False,\n",
    "    drop_last=True\n",
    ")\n",
    "\n",
    "print('No. train batches:', len(train_loader))\n",
    "print('No. val. batches:', len(val_loader))"
   ]
  },
  {
   "cell_type": "code",
   "execution_count": null,
   "id": "696e9905",
   "metadata": {},
   "outputs": [],
   "source": [
    "X_batch, y_batch = next(iter(train_loader))\n",
    "print('Input shape:', X_batch.shape)\n",
    "print('Target shape:', y_batch.shape)"
   ]
  },
  {
   "cell_type": "markdown",
   "id": "41229f7c",
   "metadata": {},
   "source": [
    "### Model training\n",
    "\n",
    "A simple TCN architecure based on so-called \"causal\" convolutions is implemented. The same loss function and optimization algorithm as before are used."
   ]
  },
  {
   "cell_type": "code",
   "execution_count": null,
   "id": "c5cfcb11",
   "metadata": {},
   "outputs": [],
   "source": [
    "model = nn.Sequential(\n",
    "    CausalConv1d(2, 4, kernel_size=3),\n",
    "    nn.Tanh(),\n",
    "    CausalConv1d(4, 4, kernel_size=3, dilation=2),\n",
    "    nn.Tanh(),\n",
    "    CausalConv1d(4, 2, kernel_size=3, dilation=4)\n",
    ")\n",
    "\n",
    "tcn = TCN(model)\n",
    "print('No. weights:', tcn.num_trainable)"
   ]
  },
  {
   "cell_type": "code",
   "execution_count": null,
   "id": "f4b1925f",
   "metadata": {},
   "outputs": [],
   "source": [
    "criterion = nn.MSELoss()\n",
    "optimizer = torch.optim.Adam(tcn.parameters(), lr=0.001)"
   ]
  },
  {
   "cell_type": "code",
   "execution_count": null,
   "id": "69800e39",
   "metadata": {
    "scrolled": true
   },
   "outputs": [],
   "source": [
    "# loss = criterion(y_pred, y_batch) # TODO: Turn off left padding for training only on actual non-padded data\n",
    "\n",
    "train(\n",
    "    tcn,\n",
    "    criterion=criterion,\n",
    "    optimizer=optimizer,\n",
    "    num_epochs=100,\n",
    "    train_loader=train_loader,\n",
    "    val_loader=val_loader\n",
    ")"
   ]
  },
  {
   "cell_type": "markdown",
   "id": "9949f222",
   "metadata": {},
   "source": [
    "### Test predictions\n",
    "\n",
    "As a last step, sequential model predictions that start from the first validation set interval are plotted."
   ]
  },
  {
   "cell_type": "code",
   "execution_count": null,
   "id": "022df2cf",
   "metadata": {},
   "outputs": [],
   "source": [
    "seq = torch.as_tensor(val_data[:window_size]) # (time, features)\n",
    "seq = seq.T.unsqueeze(0) # (batch=1, features, time)\n",
    "\n",
    "tcn.eval()\n",
    "with torch.no_grad():\n",
    "    preds = tcn.forecast(\n",
    "        seq,\n",
    "        steps=len(val_data) - window_size\n",
    "    )\n",
    "\n",
    "print('Pred. shape:', preds.shape)"
   ]
  },
  {
   "cell_type": "code",
   "execution_count": null,
   "id": "f983f033",
   "metadata": {},
   "outputs": [],
   "source": [
    "fig, ax = plt.subplots(figsize=(6, 4))\n",
    "ax.plot(\n",
    "    np.arange(window_size), val_data[:window_size,0],\n",
    "    color=plt.cm.Dark2(0), alpha=0.7,\n",
    "    label='test sine'\n",
    ")\n",
    "ax.plot(\n",
    "    np.arange(window_size), val_data[:window_size,1],\n",
    "    color=plt.cm.Dark2(1), alpha=0.7,\n",
    "    label='test cosine'\n",
    ")\n",
    "ax.plot(\n",
    "    np.arange(window_size, len(val_data)), preds[0,0,:],\n",
    "    color=plt.cm.Dark2(0), alpha=0.7, linestyle='--',\n",
    "    label='sine forecast'\n",
    ")\n",
    "ax.plot(\n",
    "    np.arange(window_size, len(val_data)), preds[0,1,:],\n",
    "    color=plt.cm.Dark2(1), alpha=0.7, linestyle='--',\n",
    "    label='cosine forecast'\n",
    ")\n",
    "ax.set(xlabel='x', ylabel='y')\n",
    "ax.set_xlim((0, len(val_data)-1))\n",
    "ax.legend(loc='lower left')\n",
    "ax.grid(visible=True, which='both', color='lightgray', linestyle='-')\n",
    "ax.set_axisbelow(True)\n",
    "fig.tight_layout()"
   ]
  }
 ],
 "metadata": {
  "kernelspec": {
   "display_name": "Python 3 (ipykernel)",
   "language": "python",
   "name": "python3"
  },
  "language_info": {
   "codemirror_mode": {
    "name": "ipython",
    "version": 3
   },
   "file_extension": ".py",
   "mimetype": "text/x-python",
   "name": "python",
   "nbconvert_exporter": "python",
   "pygments_lexer": "ipython3",
   "version": "3.11.5"
  }
 },
 "nbformat": 4,
 "nbformat_minor": 5
}
