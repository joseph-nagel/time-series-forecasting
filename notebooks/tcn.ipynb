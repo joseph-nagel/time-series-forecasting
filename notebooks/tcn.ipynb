{
 "cells": [
  {
   "cell_type": "markdown",
   "id": "ccd8ebc4-942b-4a95-8bb7-36d50e723a64",
   "metadata": {},
   "source": [
    "# TCN time series forecasting\n",
    "\n",
    "Time series forecasting with a **temporal convolutional network** (TCN) architecture is demonstrated in this notebook. The forecasting models are trained with noisy data which is artificially generated for that purpose. The same bivariate sine/cosine time series from the LSTM companion notebook is considered. The performance of the trained TCN can then be easily compared against the LSTM model."
   ]
  },
  {
   "cell_type": "code",
   "execution_count": null,
   "id": "89db3d0a-0a25-4fba-8eae-9b9accc69d98",
   "metadata": {},
   "outputs": [],
   "source": [
    "%load_ext autoreload\n",
    "%autoreload 2\n",
    "%matplotlib inline\n",
    "\n",
    "import sys\n",
    "sys.path.append('..')"
   ]
  },
  {
   "cell_type": "code",
   "execution_count": null,
   "id": "8b7e3367",
   "metadata": {},
   "outputs": [],
   "source": [
    "import matplotlib.pyplot as plt\n",
    "import numpy as np\n",
    "import torch\n",
    "import torch.nn as nn\n",
    "from torch.utils.data import DataLoader\n",
    "\n",
    "from ts_utils import (\n",
    "    make_sine_cosine,\n",
    "    SlidingWindows,\n",
    "    CausalConv,\n",
    "    TCN,\n",
    "    train\n",
    ")"
   ]
  },
  {
   "cell_type": "code",
   "execution_count": null,
   "id": "79d7c8ed-2bb9-4c7c-8044-ce3609911c1d",
   "metadata": {},
   "outputs": [],
   "source": [
    "np.random.seed(12345)\n",
    "_ = torch.manual_seed(54321)"
   ]
  },
  {
   "cell_type": "markdown",
   "id": "52d5ffa3",
   "metadata": {},
   "source": [
    "## Data generation\n",
    "\n",
    "As in the other example, we start by synthetically generating time series data as follows."
   ]
  },
  {
   "cell_type": "code",
   "execution_count": null,
   "id": "fdd236b2",
   "metadata": {},
   "outputs": [],
   "source": [
    "num_steps = 2000\n",
    "max_length = 100.\n",
    "noise_level = 0.1\n",
    "val_size = 0.2\n",
    "\n",
    "train_data, val_data = make_sine_cosine(\n",
    "    num_steps=num_steps,\n",
    "    max_length=max_length,\n",
    "    noise_level=noise_level,\n",
    "    val_size=val_size\n",
    ")\n",
    "\n",
    "print('Train data shape:', train_data.shape)\n",
    "print('Val. data shape:', val_data.shape)"
   ]
  },
  {
   "cell_type": "code",
   "execution_count": null,
   "id": "2ebfddf4",
   "metadata": {},
   "outputs": [],
   "source": [
    "fig, ax = plt.subplots(figsize=(6, 4))\n",
    "ax.plot(np.arange(len(train_data)) + 1, train_data[:,0], alpha=0.7, label='sine data')\n",
    "ax.plot(np.arange(len(train_data)) + 1, train_data[:,1], alpha=0.7, label='cosine data')\n",
    "ax.set(xlabel='x', ylabel='y')\n",
    "ax.set_xlim((0, len(train_data)))\n",
    "ax.legend(loc='lower left')\n",
    "ax.grid(visible=True, which='both', color='lightgray', linestyle='-')\n",
    "ax.set_axisbelow(True)\n",
    "fig.tight_layout()"
   ]
  },
  {
   "cell_type": "markdown",
   "id": "69cf0808",
   "metadata": {},
   "source": [
    "## Data set/loader\n",
    "\n",
    "Following this, the datasets and loaders for the training and validation sets are initialized, respectively."
   ]
  },
  {
   "cell_type": "code",
   "execution_count": null,
   "id": "ea6f7947",
   "metadata": {},
   "outputs": [],
   "source": [
    "window_size = 64\n",
    "\n",
    "train_set = SlidingWindows(\n",
    "    train_data,\n",
    "    window_size,\n",
    "    mode='shift',\n",
    "    time_last=True\n",
    ")\n",
    "\n",
    "val_set = SlidingWindows(\n",
    "    val_data,\n",
    "    window_size,\n",
    "    mode='shift',\n",
    "    time_last=True\n",
    ")\n",
    "\n",
    "print('No. train points:', len(train_set))\n",
    "print('No. val. points:', len(val_set))"
   ]
  },
  {
   "cell_type": "code",
   "execution_count": null,
   "id": "90839c24",
   "metadata": {},
   "outputs": [],
   "source": [
    "batch_size = 16\n",
    "\n",
    "train_loader = DataLoader(\n",
    "    train_set,\n",
    "    batch_size=batch_size,\n",
    "    shuffle=True,\n",
    "    drop_last=True\n",
    ")\n",
    "\n",
    "val_loader = DataLoader(\n",
    "    val_set,\n",
    "    batch_size=batch_size,\n",
    "    shuffle=False,\n",
    "    drop_last=True\n",
    ")\n",
    "\n",
    "print('No. train batches:', len(train_loader))\n",
    "print('No. val. batches:', len(val_loader))"
   ]
  },
  {
   "cell_type": "code",
   "execution_count": null,
   "id": "696e9905",
   "metadata": {},
   "outputs": [],
   "source": [
    "X_batch, y_batch = next(iter(train_loader))\n",
    "print('Input shape:', X_batch.shape)\n",
    "print('Target shape:', y_batch.shape)"
   ]
  },
  {
   "cell_type": "markdown",
   "id": "41229f7c",
   "metadata": {},
   "source": [
    "## Model training\n",
    "\n",
    "A simple TCN based on so-called \"causal\" convolutions is implemented. It is trained with the same loss function and optimization algorithm as before."
   ]
  },
  {
   "cell_type": "code",
   "execution_count": null,
   "id": "c5cfcb11",
   "metadata": {},
   "outputs": [],
   "source": [
    "model = nn.Sequential(\n",
    "    CausalConv(2, 4, kernel_size=3),\n",
    "    nn.Tanh(),\n",
    "    CausalConv(4, 4, kernel_size=3, dilation=2),\n",
    "    nn.Tanh(),\n",
    "    CausalConv(4, 2, kernel_size=3, dilation=4)\n",
    ")\n",
    "\n",
    "tcn = TCN(model)\n",
    "print('No. weights:', tcn.num_trainable)"
   ]
  },
  {
   "cell_type": "code",
   "execution_count": null,
   "id": "f4b1925f",
   "metadata": {},
   "outputs": [],
   "source": [
    "criterion = nn.MSELoss()\n",
    "optimizer = torch.optim.Adam(tcn.parameters(), lr=0.001)"
   ]
  },
  {
   "cell_type": "code",
   "execution_count": null,
   "id": "69800e39",
   "metadata": {
    "scrolled": true
   },
   "outputs": [],
   "source": [
    "# TODO: Turn off left padding for training only on actual non-padded data\n",
    "# loss = criterion(y_pred, y_batch)\n",
    "\n",
    "train(\n",
    "    tcn,\n",
    "    criterion=criterion,\n",
    "    optimizer=optimizer,\n",
    "    num_epochs=100,\n",
    "    train_loader=train_loader,\n",
    "    val_loader=val_loader\n",
    ")"
   ]
  },
  {
   "cell_type": "markdown",
   "id": "9949f222",
   "metadata": {},
   "source": [
    "## Test predictions\n",
    "\n",
    "As a last step, sequential model predictions that start from the first validation set interval are plotted."
   ]
  },
  {
   "cell_type": "code",
   "execution_count": null,
   "id": "022df2cf",
   "metadata": {},
   "outputs": [],
   "source": [
    "seq = torch.as_tensor(val_data[:window_size])  # (time, features)\n",
    "seq = seq.T.unsqueeze(0)  # (batch=1, features, time)\n",
    "\n",
    "tcn.eval()\n",
    "with torch.no_grad():\n",
    "    preds = tcn.forecast(\n",
    "        seq,\n",
    "        steps=len(val_data) - window_size\n",
    "    )\n",
    "\n",
    "print('Pred. shape:', preds.shape)"
   ]
  },
  {
   "cell_type": "code",
   "execution_count": null,
   "id": "f983f033",
   "metadata": {},
   "outputs": [],
   "source": [
    "fig, ax = plt.subplots(figsize=(6, 4))\n",
    "\n",
    "ax.plot(\n",
    "    np.arange(window_size) + 1,\n",
    "    val_data[:window_size,0],\n",
    "    color=plt.cm.Dark2(0), alpha=0.7,\n",
    "    label='test sine'\n",
    ")\n",
    "\n",
    "ax.plot(\n",
    "    np.arange(window_size) + 1,\n",
    "    val_data[:window_size,1],\n",
    "    color=plt.cm.Dark2(1), alpha=0.7,\n",
    "    label='test cosine'\n",
    ")\n",
    "\n",
    "ax.plot(\n",
    "    np.arange(window_size, len(val_data)) + 1,\n",
    "    preds[0,0,:],\n",
    "    color=plt.cm.Dark2(0), alpha=0.7, linestyle='--',\n",
    "    label='sine forecast'\n",
    ")\n",
    "\n",
    "ax.plot(\n",
    "    np.arange(window_size, len(val_data)) + 1,\n",
    "    preds[0,1,:],\n",
    "    color=plt.cm.Dark2(1), alpha=0.7, linestyle='--',\n",
    "    label='cosine forecast'\n",
    ")\n",
    "\n",
    "ax.set(xlabel='x', ylabel='y')\n",
    "ax.set_xlim((0, len(val_data)))\n",
    "ax.legend(loc='lower left')\n",
    "\n",
    "ax.grid(visible=True, which='both', color='lightgray', linestyle='-')\n",
    "ax.set_axisbelow(True)\n",
    "fig.tight_layout()"
   ]
  }
 ],
 "metadata": {
  "kernelspec": {
   "display_name": "Python 3 (ipykernel)",
   "language": "python",
   "name": "python3"
  },
  "language_info": {
   "codemirror_mode": {
    "name": "ipython",
    "version": 3
   },
   "file_extension": ".py",
   "mimetype": "text/x-python",
   "name": "python",
   "nbconvert_exporter": "python",
   "pygments_lexer": "ipython3",
   "version": "3.12.4"
  }
 },
 "nbformat": 4,
 "nbformat_minor": 5
}
